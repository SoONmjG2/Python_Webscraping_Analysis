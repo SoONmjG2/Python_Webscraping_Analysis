{
 "cells": [
  {
   "cell_type": "markdown",
   "id": "07ad568b",
   "metadata": {},
   "source": [
    "### 연습문제 2-1 "
   ]
  },
  {
   "cell_type": "code",
   "execution_count": null,
   "id": "dea2438e",
   "metadata": {},
   "outputs": [],
   "source": [
    "import requests\n",
    "from bs4 import BeautifulSoup\n",
    "from urllib.parse import urljoin\n",
    "from IPython.display import Image, display\n",
    "\n",
    "\n",
    "BASE_URL = 'https://news.nate.com'\n",
    "SECTIONS = {\n",
    "    '정치': 'n0101',\n",
    "    '경제': 'n0102',\n",
    "    '사회': 'n0103',\n",
    "    '세계': 'n0104',\n",
    "    'IT/과학': 'n0105',\n",
    "    '생활/문화': 'n0106'\n",
    "}\n",
    "\n",
    "\n",
    "def fetch_section_news(section_code):\n",
    "    url = f\"{BASE_URL}/recent\"\n",
    "    params = {'mid': section_code}\n",
    "    headers = {'User-Agent': 'Mozilla/5.0'}\n",
    "    resp = requests.get(url, params=params, headers=headers)\n",
    "    resp.raise_for_status()\n",
    "    soup = BeautifulSoup(resp.text, 'html.parser')\n",
    "\n",
    "    news_cards = soup.select('div.mlt01')  \n",
    "    items = []\n",
    "\n",
    "    for card in news_cards:\n",
    "        a_tag = card.find('a')\n",
    "        if not a_tag or not a_tag.get('href'):\n",
    "            continue\n",
    "\n",
    "        link = urljoin(BASE_URL, a_tag['href'])  \n",
    "        title_tag = card.select_one('h2.tit')\n",
    "        title = title_tag.get_text(strip=True) if title_tag else '제목 없음'\n",
    "\n",
    "        img_tag = card.find('img')\n",
    "        img_src = urljoin(BASE_URL, img_tag['src']) if img_tag and img_tag.get('src') else None\n",
    "\n",
    "        items.append({'title': title, 'link': link, 'img_src': img_src})\n",
    "\n",
    "    return items\n",
    "\n",
    "\n",
    "def display_section(section_name):\n",
    "    code = SECTIONS.get(section_name)\n",
    "    if not code:\n",
    "        print(f\"섹션 이름 '{section_name}'은(는) 유효하지 않습니다\")\n",
    "        return\n",
    "\n",
    "    print(f\"\\n## [{section_name}] 섹션\")\n",
    "    try:\n",
    "        news_items = fetch_section_news(code)\n",
    "    except Exception as e:\n",
    "        print(f\"  오류 발생: {e}\")\n",
    "        return\n",
    "\n",
    "    if not news_items:\n",
    "        print(\"  뉴스 없음\")\n",
    "        return\n",
    "\n",
    "    for item in news_items:\n",
    "        print(f\"- {item['title']}\")\n",
    "        print(f\"  링크: {item['link']}\")\n",
    "        if item['img_src']:\n",
    "            try:\n",
    "                display(Image(url=item['img_src']))\n",
    "            except Exception as e:\n",
    "                print(\"  이미지 표시 실패:\", e)\n"
   ]
  },
  {
   "cell_type": "code",
   "execution_count": 15,
   "id": "e6f1b7bf",
   "metadata": {},
   "outputs": [
    {
     "name": "stdout",
     "output_type": "stream",
     "text": [
      "\n",
      "## [정치] 섹션\n",
      "- 특검, 김선교 의원실 전격 압수수색…양평고속도로 의혹 수사\n",
      "  링크: https://news.nate.com/view/20250725n05438?mid=n0101\n"
     ]
    },
    {
     "data": {
      "text/html": [
       "<img src=\"https://thumbnews.nateimg.co.kr/news90///news.nateimg.co.kr/orgImg/nt/2025/07/25/17533997216882c1a9be890.jpg\"/>"
      ],
      "text/plain": [
       "<IPython.core.display.Image object>"
      ]
     },
     "metadata": {},
     "output_type": "display_data"
    },
    {
     "name": "stdout",
     "output_type": "stream",
     "text": [
      "- 김정관·여한구, 미 상무장관 만나 관세 협상…제조업 협력 방안 제시\n",
      "  링크: https://news.nate.com/view/20250725n05406?mid=n0101\n"
     ]
    },
    {
     "data": {
      "text/html": [
       "<img src=\"https://thumbnews.nateimg.co.kr/news90///news.nateimg.co.kr/orgImg/mw/2025/07/25/2025072508472935994_1.jpg\"/>"
      ],
      "text/plain": [
       "<IPython.core.display.Image object>"
      ]
     },
     "metadata": {},
     "output_type": "display_data"
    },
    {
     "name": "stdout",
     "output_type": "stream",
     "text": [
      "- [속보] 특검, '양평공흥지구' 관련 김선교·최은순·김진우 압수수색\n",
      "  링크: https://news.nate.com/view/20250725n05398?mid=n0101\n"
     ]
    },
    {
     "data": {
      "text/html": [
       "<img src=\"https://thumbnews.nateimg.co.kr/news90///news.nateimg.co.kr/orgImg/aj/2025/07/25/20250605103601669244.jpg\"/>"
      ],
      "text/plain": [
       "<IPython.core.display.Image object>"
      ]
     },
     "metadata": {},
     "output_type": "display_data"
    },
    {
     "name": "stdout",
     "output_type": "stream",
     "text": [
      "- [속보]김건희 특검, 김건희 모친과 오빠·김선교 의원 압수수색···양평공흥지구 관련\n",
      "  링크: https://news.nate.com/view/20250725n05371?mid=n0101\n"
     ]
    },
    {
     "data": {
      "text/html": [
       "<img src=\"https://thumbnews.nateimg.co.kr/news90///news.nateimg.co.kr/orgImg/kh/2025/07/25/news-p.v1.20250724.8de44b598ac740248bdc3d70500f8b0e_P1.jpg\"/>"
      ],
      "text/plain": [
       "<IPython.core.display.Image object>"
      ]
     },
     "metadata": {},
     "output_type": "display_data"
    },
    {
     "name": "stdout",
     "output_type": "stream",
     "text": [
      "- [속보] 김건희 특검, 김 여사 가족·김선교 의원 압수수색…\"양평고속도로 특혜 의혹\"\n",
      "  링크: https://news.nate.com/view/20250725n05363?mid=n0101\n"
     ]
    },
    {
     "data": {
      "text/html": [
       "<img src=\"https://thumbnews.nateimg.co.kr/news90///news.nateimg.co.kr/orgImg/ni/2025/07/25/2507250849292801.jpg\"/>"
      ],
      "text/plain": [
       "<IPython.core.display.Image object>"
      ]
     },
     "metadata": {},
     "output_type": "display_data"
    },
    {
     "name": "stdout",
     "output_type": "stream",
     "text": [
      "- 서울시장…오세훈 대항마는 누구?[지방선거 출마자]①\n",
      "  링크: https://news.nate.com/view/20250725n02812?mid=n0101\n"
     ]
    },
    {
     "data": {
      "text/html": [
       "<img src=\"https://thumbnews.nateimg.co.kr/news90///news.nateimg.co.kr/orgImg/ae/2025/07/25/ae_1753400828810_999949_0.jpg\"/>"
      ],
      "text/plain": [
       "<IPython.core.display.Image object>"
      ]
     },
     "metadata": {},
     "output_type": "display_data"
    },
    {
     "name": "stdout",
     "output_type": "stream",
     "text": [
      "- 박찬대 \"尹 관저 앞 인간방패 45인, 의원직 제명해야\"\n",
      "  링크: https://news.nate.com/view/20250725n05266?mid=n0101\n"
     ]
    },
    {
     "data": {
      "text/html": [
       "<img src=\"https://thumbnews.nateimg.co.kr/news90///news.nateimg.co.kr/orgImg/cb/2025/07/25/202507250842433962_0.jpg\"/>"
      ],
      "text/plain": [
       "<IPython.core.display.Image object>"
      ]
     },
     "metadata": {},
     "output_type": "display_data"
    },
    {
     "name": "stdout",
     "output_type": "stream",
     "text": [
      "- 김태흠 충남지사 \"민주당의 유럽 출장 비난은 악의적 정치 공세\"\n",
      "  링크: https://news.nate.com/view/20250725n05213?mid=n0101\n"
     ]
    },
    {
     "data": {
      "text/html": [
       "<img src=\"https://thumbnews.nateimg.co.kr/news90///news.nateimg.co.kr/orgImg/yt/2025/07/25/AKR20250725015100063_01_i.jpg\"/>"
      ],
      "text/plain": [
       "<IPython.core.display.Image object>"
      ]
     },
     "metadata": {},
     "output_type": "display_data"
    },
    {
     "name": "stdout",
     "output_type": "stream",
     "text": [
      "- [뉴스UP] '강선우 사퇴' 후폭풍…민주당, 전대 앞두고 '명심' 논란\n",
      "  링크: https://news.nate.com/view/20250725n05200?mid=n0101\n"
     ]
    },
    {
     "data": {
      "text/html": [
       "<img src=\"https://thumbnews.nateimg.co.kr/news90///news.nateimg.co.kr/orgImg/yn/2025/07/25/202507250818013521_t.jpg\"/>"
      ],
      "text/plain": [
       "<IPython.core.display.Image object>"
      ]
     },
     "metadata": {},
     "output_type": "display_data"
    },
    {
     "name": "stdout",
     "output_type": "stream",
     "text": [
      "- 발길 돌린 구윤철, 빈손 귀국 위성락\n",
      "  링크: https://news.nate.com/view/20250725n00468?mid=n0101\n"
     ]
    },
    {
     "data": {
      "text/html": [
       "<img src=\"https://thumbnews.nateimg.co.kr/news90///news.nateimg.co.kr/orgImg/ch/2025/07/25/ch_1753400651579_146241_0.jpg\"/>"
      ],
      "text/plain": [
       "<IPython.core.display.Image object>"
      ]
     },
     "metadata": {},
     "output_type": "display_data"
    },
    {
     "name": "stdout",
     "output_type": "stream",
     "text": [
      "- 부승찬 \"합참의장, 김용대 지시에 반대? 모든 작전에 기획부터 개입해놓고 내로남불\"\n",
      "  링크: https://news.nate.com/view/20250725n05159?mid=n0101\n"
     ]
    },
    {
     "data": {
      "text/html": [
       "<img src=\"https://thumbnews.nateimg.co.kr/news90///news.nateimg.co.kr/orgImg/yn/2025/07/25/202507250839162154_d.jpg\"/>"
      ],
      "text/plain": [
       "<IPython.core.display.Image object>"
      ]
     },
     "metadata": {},
     "output_type": "display_data"
    },
    {
     "name": "stdout",
     "output_type": "stream",
     "text": [
      "- 김재원 \"김문수, 전한길 말할 권리 보장하자는 입장이지만 전한길 주장에 동의는 안 해\"\n",
      "  링크: https://news.nate.com/view/20250725n05147?mid=n0101\n"
     ]
    },
    {
     "data": {
      "text/html": [
       "<img src=\"https://thumbnews.nateimg.co.kr/news90///news.nateimg.co.kr/orgImg/yn/2025/07/25/202507250810436221_d.jpg\"/>"
      ],
      "text/plain": [
       "<IPython.core.display.Image object>"
      ]
     },
     "metadata": {},
     "output_type": "display_data"
    },
    {
     "name": "stdout",
     "output_type": "stream",
     "text": [
      "- 화성 향남 플라스틱 공장서 큰 불…10명 대피·인명피해 없어\n",
      "  링크: https://news.nate.com/view/20250725n05133?mid=n0101\n"
     ]
    },
    {
     "data": {
      "text/html": [
       "<img src=\"https://thumbnews.nateimg.co.kr/news90///news.nateimg.co.kr/orgImg/ni/2025/07/25/2507250839002070_w.jpg\"/>"
      ],
      "text/plain": [
       "<IPython.core.display.Image object>"
      ]
     },
     "metadata": {},
     "output_type": "display_data"
    },
    {
     "name": "stdout",
     "output_type": "stream",
     "text": [
      "- [자막뉴스] 박찬대 글 17분 만에 강선우 사퇴…정청래는 '일침'\n",
      "  링크: https://news.nate.com/view/20250725n05120?mid=n0101\n"
     ]
    },
    {
     "data": {
      "text/html": [
       "<img src=\"https://thumbnews.nateimg.co.kr/news90///news.nateimg.co.kr/orgImg/yn/2025/07/25/202507250753194821_t.jpg\"/>"
      ],
      "text/plain": [
       "<IPython.core.display.Image object>"
      ]
     },
     "metadata": {},
     "output_type": "display_data"
    },
    {
     "name": "stdout",
     "output_type": "stream",
     "text": [
      "- 윤석열 前대통령 재산 79.9억…임기중 3.5억 증가\n",
      "  링크: https://news.nate.com/view/20250725n05108?mid=n0101\n"
     ]
    },
    {
     "data": {
      "text/html": [
       "<img src=\"https://thumbnews.nateimg.co.kr/news90///news.nateimg.co.kr/orgImg/hr/2025/07/25/news-p.v1.20250709.67590f948e9c4e468a40cf4525d8423e_P1.jpg\"/>"
      ],
      "text/plain": [
       "<IPython.core.display.Image object>"
      ]
     },
     "metadata": {},
     "output_type": "display_data"
    },
    {
     "name": "stdout",
     "output_type": "stream",
     "text": [
      "- 대통령실 기자단에 '김어준 뉴스공장' 등 정식 출입\n",
      "  링크: https://news.nate.com/view/20250725n05104?mid=n0101\n"
     ]
    },
    {
     "data": {
      "text/html": [
       "<img src=\"https://thumbnews.nateimg.co.kr/news90///news.nateimg.co.kr/orgImg/nt/2025/07/25/17534001836882c377ea665.jpg\"/>"
      ],
      "text/plain": [
       "<IPython.core.display.Image object>"
      ]
     },
     "metadata": {},
     "output_type": "display_data"
    },
    {
     "name": "stdout",
     "output_type": "stream",
     "text": [
      "- 대통령실 \"출입기자단에 '김어준의 뉴스공장' 등록했다\"\n",
      "  링크: https://news.nate.com/view/20250725n04801?mid=n0101\n"
     ]
    },
    {
     "data": {
      "text/html": [
       "<img src=\"https://thumbnews.nateimg.co.kr/news90///news.nateimg.co.kr/orgImg/do/2025/07/25/132068395.2.jpg\"/>"
      ],
      "text/plain": [
       "<IPython.core.display.Image object>"
      ]
     },
     "metadata": {},
     "output_type": "display_data"
    },
    {
     "name": "stdout",
     "output_type": "stream",
     "text": [
      "- 김용태 \"국힘, 개혁 늦었다…혁신 점수 0점 아닌 마이너스\" [만났습니다]①\n",
      "  링크: https://news.nate.com/view/20250725n01611?mid=n0101\n"
     ]
    },
    {
     "data": {
      "text/html": [
       "<img src=\"https://thumbnews.nateimg.co.kr/news90///news.nateimg.co.kr/orgImg/ed/2025/07/25/PS25072500386.jpg\"/>"
      ],
      "text/plain": [
       "<IPython.core.display.Image object>"
      ]
     },
     "metadata": {},
     "output_type": "display_data"
    },
    {
     "name": "stdout",
     "output_type": "stream",
     "text": [
      "- 영치금 호소한 尹…재산 80억 신고, 김건희 50억 신고\n",
      "  링크: https://news.nate.com/view/20250725n03769?mid=n0101\n"
     ]
    },
    {
     "data": {
      "text/html": [
       "<img src=\"https://thumbnews.nateimg.co.kr/news90///news.nateimg.co.kr/orgImg/fn/2025/07/25/202507242022220219_l.jpg\"/>"
      ],
      "text/plain": [
       "<IPython.core.display.Image object>"
      ]
     },
     "metadata": {},
     "output_type": "display_data"
    },
    {
     "name": "stdout",
     "output_type": "stream",
     "text": [
      "- 李 \"감사-수사에 복지부동 넘어 낙지부동\" 보복 논란 감사원 겨냥\n",
      "  링크: https://news.nate.com/view/20250725n00857?mid=n0101\n"
     ]
    },
    {
     "data": {
      "text/html": [
       "<img src=\"https://thumbnews.nateimg.co.kr/news90///news.nateimg.co.kr/orgImg/do/2025/07/25/132068093.1.jpg\"/>"
      ],
      "text/plain": [
       "<IPython.core.display.Image object>"
      ]
     },
     "metadata": {},
     "output_type": "display_data"
    }
   ],
   "source": [
    "display_section('정치')"
   ]
  },
  {
   "cell_type": "markdown",
   "id": "492d1ef5",
   "metadata": {},
   "source": [
    "### 연습문제 2-2 "
   ]
  },
  {
   "cell_type": "code",
   "execution_count": 9,
   "id": "43a508c2",
   "metadata": {},
   "outputs": [],
   "source": [
    "import os\n",
    "import requests\n",
    "from bs4 import BeautifulSoup\n",
    "from urllib.parse import urljoin\n",
    "\n",
    "def download_one_episode(title, no, url):\n",
    "    headers = {\n",
    "        'User-Agent': 'Mozilla/5.0'\n",
    "    }\n",
    "\n",
    "    # 웹툰 페이지 요청\n",
    "    response = requests.get(url, headers=headers)\n",
    "    response.raise_for_status()\n",
    "\n",
    "    # 파싱\n",
    "    soup = BeautifulSoup(response.text, 'html.parser')\n",
    "\n",
    "    # 웹툰 이미지 태그 선택\n",
    "    img_tags = soup.select('div.wt_viewer img')\n",
    "\n",
    "    if not img_tags:\n",
    "        print(\"이미지를 찾을 수 없습니다.\")\n",
    "        return\n",
    "\n",
    "    # 저장 경로 생성\n",
    "    folder_path = os.path.join('img', title, str(no))\n",
    "    os.makedirs(folder_path, exist_ok=True)\n",
    "\n",
    "    print(f\"{len(img_tags)}장의 이미지를 저장합니다\")\n",
    "\n",
    "    for idx, img in enumerate(img_tags, 1):\n",
    "        img_url = img.get('src')\n",
    "        if not img_url:\n",
    "            continue\n",
    "\n",
    "        full_img_url = urljoin(url, img_url)\n",
    "\n",
    "        try:\n",
    "            img_data = requests.get(full_img_url, headers=headers).content\n",
    "        except Exception as e:\n",
    "            print(f\"{idx}번째 이미지 다운로드 실패: {e}\")\n",
    "            continue\n",
    "\n",
    "        # 확장자 추출\n",
    "        file_ext = os.path.splitext(full_img_url)[-1].split('?')[0]\n",
    "        filename = f\"{idx:03d}{file_ext}\"\n",
    "        file_path = os.path.join(folder_path, filename)\n",
    "\n",
    "        with open(file_path, 'wb') as f:\n",
    "            f.write(img_data)\n",
    "\n",
    "\n",
    "    print(\"모든 이미지 다운로드 완료\")\n",
    "\n"
   ]
  },
  {
   "cell_type": "code",
   "execution_count": 10,
   "id": "69889195",
   "metadata": {},
   "outputs": [
    {
     "name": "stdout",
     "output_type": "stream",
     "text": [
      "88장의 이미지를 저장합니다\n",
      "모든 이미지 다운로드 완료\n"
     ]
    }
   ],
   "source": [
    "download_one_episode('일렉시드', 341, 'https://comic.naver.com/webtoon/detail?titleId=717481&no=341&week=wed')"
   ]
  }
 ],
 "metadata": {
  "kernelspec": {
   "display_name": "base",
   "language": "python",
   "name": "python3"
  },
  "language_info": {
   "codemirror_mode": {
    "name": "ipython",
    "version": 3
   },
   "file_extension": ".py",
   "mimetype": "text/x-python",
   "name": "python",
   "nbconvert_exporter": "python",
   "pygments_lexer": "ipython3",
   "version": "3.12.7"
  }
 },
 "nbformat": 4,
 "nbformat_minor": 5
}
