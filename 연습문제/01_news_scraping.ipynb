{
 "cells": [
  {
   "cell_type": "code",
   "execution_count": 21,
   "id": "93eacb5c",
   "metadata": {},
   "outputs": [],
   "source": [
    "#연습문제1\n",
    "import select\n",
    "import requests\n",
    "from bs4 import BeautifulSoup\n",
    "\n",
    "\n",
    "def print_news1():  \n",
    "    url='https://news.daum.net/economy'\n",
    "    print(url)\n",
    "\n",
    "    # 요청 헤더 설정 : 브라우저 정보\n",
    "    req_header = {\n",
    "        \"user-agent\": \"Mozilla/5.0 (Windows NT 10.0; Win64; x64) AppleWebKit/537.36 (KHTML, like Gecko) Chrome/138.0.0.0 Safari/537.36\"\n",
    "    }\n",
    "\n",
    "    # requests 의 get() 함수 호출하기 \n",
    "    res=requests.get(url,headers=req_header)\n",
    "    res.encoding='utf-8'\n",
    "    print(type(res))\n",
    "    print(res.status_code) \n",
    "    \n",
    "    if(res.ok):\n",
    "        html = res.text\n",
    "\n",
    "        # BeautifulSoup 객체 생성 \n",
    "        soup = BeautifulSoup(html,\"html.parser\") \n",
    "        tags = soup.select(\"ul.list_newsheadline2 li\")\n",
    "        print(f'{type(tags)} {len(tags)}')\n",
    "\n",
    "         \n",
    "        for li_tag in soup.select('ul.list_newsheadline2 li'):\n",
    "            a_tag = li_tag.find('a')\n",
    "            link = a_tag['href']\n",
    "\n",
    "            strong_tag = li_tag.select_one('div.cont_thumb strong.tit_txt')\t\n",
    "            title = strong_tag.text\n",
    "        \n",
    "            print(f'{link}\\n {title}') #tag   \n",
    "    else: \n",
    "        print(f'Error Code = {res.status_code}') \n"
   ]
  },
  {
   "cell_type": "code",
   "execution_count": 22,
   "id": "f447aa19",
   "metadata": {},
   "outputs": [
    {
     "name": "stdout",
     "output_type": "stream",
     "text": [
      "https://news.daum.net/economy\n",
      "<class 'requests.models.Response'>\n",
      "200\n",
      "<class 'bs4.element.ResultSet'> 9\n",
      "https://v.daum.net/v/20250722175106335\n",
      " “100년 뒤 백만 이상 日 도시 11개서 4개로 뚝...한국은 더 심할 것”\n",
      "https://v.daum.net/v/20250722174746199\n",
      " 예금자보호 1억 시대…내 돈 어디에 맡길까?\n",
      "https://v.daum.net/v/20250722174509108\n",
      " 취임식 생략하고 현장 찾은 환경장관 \"빈틈없는 홍수대응 구축\"\n",
      "https://v.daum.net/v/20250722174241984\n",
      " 전재수 해수 후보자 조선업 '신경전'에 김정관 산업장관 '신중론'\n",
      "https://v.daum.net/v/20250722171546881\n",
      " 식재료비 뛰고 사장님은 늙고…동네 백반집이 사라진다\n",
      "https://v.daum.net/v/20250722171502827\n",
      " “흑자 전환 노린다” 국내외 의료 AI, 실적 경쟁 치열\n",
      "https://v.daum.net/v/20250722164636610\n",
      " 한국블록체인스타트업협회 조원희 회장 취임…산업 융합과 글로벌 진출의 ‘종합 허브’ 선언\n",
      "https://v.daum.net/v/20250722164503546\n",
      " 범여권 '자사주 소각 의무화' 공세에…野 '포이즌필 제도화' 맞대응\n",
      "https://v.daum.net/v/20250722164042349\n",
      " 깐깐해진 美 비자 심사…\"입국 리스크 줄이려면 전략적 접근 필요”\n"
     ]
    }
   ],
   "source": [
    "print_news1()"
   ]
  },
  {
   "cell_type": "code",
   "execution_count": 30,
   "id": "15fb9ed8",
   "metadata": {},
   "outputs": [],
   "source": [
    "#연습문제2\n",
    "import select\n",
    "import requests\n",
    "from bs4 import BeautifulSoup\n",
    "\n",
    "\n",
    "section_dict = {'기후/환경':'climate','사회':'society','경제':'economy','정치':'politics',\n",
    "             '국제':'world','문화':'culture','생활':'life','IT/과학':'tech','인물':'people'}\n",
    "\n",
    "\n",
    "def print_news(section_name):  \n",
    "    sid=section_dict[section_name]\n",
    "    url=f'https://news.daum.net/{sid}'\n",
    "    print(f'{url} {section_name} 뉴스')\n",
    "\n",
    "    # 요청 헤더 설정 : 브라우저 정보\n",
    "    req_header = {\n",
    "        \"user-agent\": \"Mozilla/5.0 (Windows NT 10.0; Win64; x64) AppleWebKit/537.36 (KHTML, like Gecko) Chrome/138.0.0.0 Safari/537.36\"\n",
    "    }\n",
    "\n",
    "    # requests 의 get() 함수 호출하기 \n",
    "    res=requests.get(url,headers=req_header)\n",
    "    res.encoding='utf-8'\n",
    "\n",
    "    \n",
    "    if(res.ok):\n",
    "        html = res.text\n",
    "\n",
    "        # BeautifulSoup 객체 생성 \n",
    "        soup = BeautifulSoup(html,\"html.parser\") \n",
    "        tags = soup.select(\"ul.list_newsheadline2 li\")\n",
    "        print(f'{type(tags)} {len(tags)}')\n",
    "\n",
    "         \n",
    "        for li_tag in soup.select('ul.list_newsheadline2 li'):\n",
    "            a_tag = li_tag.find('a')\n",
    "            link = a_tag['href']\n",
    "\n",
    "            strong_tag = li_tag.select_one('div.cont_thumb strong.tit_txt')\t\n",
    "            title = strong_tag.text\n",
    "        \n",
    "            print(f'{link}\\n {title}') #tag   \n",
    "    else: \n",
    "        print(f'Error Code = {res.status_code}') \n"
   ]
  },
  {
   "cell_type": "code",
   "execution_count": 31,
   "id": "277ad8cc",
   "metadata": {},
   "outputs": [
    {
     "name": "stdout",
     "output_type": "stream",
     "text": [
      "https://news.daum.net/economy 경제 뉴스\n",
      "<class 'bs4.element.ResultSet'> 9\n",
      "https://v.daum.net/v/20250722210317765\n",
      " 韓 반도체는 깨어날 줄 모르고 [AI 칩 전쟁…한국은 없다?]\n",
      "https://v.daum.net/v/20250722204242273\n",
      " 소비쿠폰 쓰려다가 '화들짝'…\"여기서는 못써요\" 응답에 '당황'한 소비자\n",
      "https://v.daum.net/v/20250722202007801\n",
      " ‘해수부 부산 시대’ 조선·해양플랜트까지 업무 넓혀야\n",
      "https://v.daum.net/v/20250722200357366\n",
      " [이슈대담] “2040년 석탄화력발전소 폐쇄…신재생 에너지 전환”\n",
      "https://v.daum.net/v/20250722190900992\n",
      " 경제통상 외교수장들, 대거 미국행... 관세 타결·한미정상회담 열릴까\n",
      "https://v.daum.net/v/20250722185103483\n",
      " 퇴근하면 시작된다...유통업계 다시 불붙은 '6시 쇼핑' 전쟁\n",
      "https://v.daum.net/v/20250722183143976\n",
      " “자율주행, 이동약자 지원하는 ‘공공성’에 초점 맞춰야”\n",
      "https://v.daum.net/v/20250722181057244\n",
      " 꾸준히 강세 흐름 보이는 메이저 알트코인들 : 코리안 크립토 위클리 [INFCL 리서치]\n",
      "https://v.daum.net/v/20250722175548581\n",
      " 세계시장 제패한 K뷰티·푸드…'첨단' 아니라며 R&D지원은 쥐꼬리\n"
     ]
    }
   ],
   "source": [
    "print_news('경제')"
   ]
  },
  {
   "cell_type": "code",
   "execution_count": 32,
   "id": "081f935e",
   "metadata": {},
   "outputs": [
    {
     "name": "stdout",
     "output_type": "stream",
     "text": [
      "https://news.daum.net/society 사회 뉴스\n",
      "<class 'bs4.element.ResultSet'> 9\n",
      "https://v.daum.net/v/20250722215205731\n",
      " “호스피스·완화의료, 인식 바꾸고 제도 뒷받침”\n",
      "https://v.daum.net/v/20250722214226532\n",
      " [호우 피해 합천 가회면 가보니] 수마 휩쓸고 간 마을, 쓰레기밭으로 변했다\n",
      "https://v.daum.net/v/20250722213920464\n",
      " 2043년 대학 신입생 절반도 못 채운다…입학자원 급감 '경고등'\n",
      "https://v.daum.net/v/20250722213017302\n",
      " [28] ‘모란이 피기까지는’...김영랑은 항일 저항시인이었다. [광주전남독립운동현장 50]\n",
      "https://v.daum.net/v/20250722210541832\n",
      " 760억 등친 '수원 왕회장' 숨은 재산 추적…감옥서도 돈벌이, 피해자 두 번 울린 전세사기단\n",
      "https://v.daum.net/v/20250722210344774\n",
      " “×× 시청인데요, 물품 대리납품 좀…” 전국 공무원 사칭 사기 주의!!\n",
      "https://v.daum.net/v/20250722205947653\n",
      " 의대생 복귀 방안 협의 막바지…반대 국민청원은 5만 돌파\n",
      "https://v.daum.net/v/20250722205117470\n",
      " [밀착카메라] 장마엔 젖어서, 폭염엔 더워서…안전 위험한 '폐지 어르신'\n",
      "https://v.daum.net/v/20250722204626341\n",
      " [호국의 성지 남해 관음포]삼별초는 왜 남해로 향했나\n"
     ]
    }
   ],
   "source": [
    "print_news('사회')"
   ]
  }
 ],
 "metadata": {
  "kernelspec": {
   "display_name": "base",
   "language": "python",
   "name": "python3"
  },
  "language_info": {
   "codemirror_mode": {
    "name": "ipython",
    "version": 3
   },
   "file_extension": ".py",
   "mimetype": "text/x-python",
   "name": "python",
   "nbconvert_exporter": "python",
   "pygments_lexer": "ipython3",
   "version": "3.12.7"
  }
 },
 "nbformat": 4,
 "nbformat_minor": 5
}
