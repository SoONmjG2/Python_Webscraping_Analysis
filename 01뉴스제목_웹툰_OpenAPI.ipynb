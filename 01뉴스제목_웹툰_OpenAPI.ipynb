{
 "cells": [
  {
   "cell_type": "markdown",
   "id": "eb0bfa44",
   "metadata": {},
   "source": [
    "## 1. 뉴스제목 가져오기\n",
    "* user-agent 요청헤더를 반드시 설정해야 한다."
   ]
  },
  {
   "cell_type": "code",
   "execution_count": 1,
   "id": "f0d27781",
   "metadata": {},
   "outputs": [
    {
     "name": "stdout",
     "output_type": "stream",
     "text": [
      "Name: requests\n",
      "Version: 2.32.3\n",
      "Summary: Python HTTP for Humans.\n",
      "Home-page: https://requests.readthedocs.io\n",
      "Author: Kenneth Reitz\n",
      "Author-email: me@kennethreitz.org\n",
      "License: Apache-2.0\n",
      "Location: C:\\Users\\user\\anaconda3\\Lib\\site-packages\n",
      "Requires: certifi, charset-normalizer, idna, urllib3\n",
      "Required-by: aext-assistant-server, anaconda-auth, anaconda-catalogs, anaconda-client, anaconda-project, conda, conda-build, conda-repo-cli, conda_package_streaming, cookiecutter, datashader, jupyterlab_server, panel, requests-file, requests-toolbelt, Sphinx, streamlit, tldextract\n"
     ]
    }
   ],
   "source": [
    "# requests 라이브러리 설치여부 확인(!작성해야함)\n",
    "!pip show requests "
   ]
  },
  {
   "cell_type": "code",
   "execution_count": 2,
   "id": "f7798ea8",
   "metadata": {},
   "outputs": [
    {
     "name": "stdout",
     "output_type": "stream",
     "text": [
      "Name: beautifulsoup4\n",
      "Version: 4.12.3\n",
      "Summary: Screen-scraping library\n",
      "Home-page: https://www.crummy.com/software/BeautifulSoup/bs4/\n",
      "Author: \n",
      "Author-email: Leonard Richardson <leonardr@segfault.org>\n",
      "License: MIT License\n",
      "Location: C:\\Users\\user\\anaconda3\\Lib\\site-packages\n",
      "Requires: soupsieve\n",
      "Required-by: conda-build, nbconvert\n"
     ]
    }
   ],
   "source": [
    "# beautifulsoup4 라이브러리 설치여부 확인\n",
    "!pip show beautifulsoup4"
   ]
  },
  {
   "cell_type": "code",
   "execution_count": 1,
   "id": "bf80a429",
   "metadata": {},
   "outputs": [],
   "source": [
    "# reqeusts, bs4 import\n",
    "import requests\n",
    "# BeautifulSoup import\n",
    "import bs4\n",
    "# BeautifulSoup class import\n",
    "from bs4 import BeautifulSoup"
   ]
  },
  {
   "cell_type": "code",
   "execution_count": 2,
   "id": "9788d6ac",
   "metadata": {},
   "outputs": [
    {
     "name": "stdout",
     "output_type": "stream",
     "text": [
      "requests 버전 = 2.32.3\n",
      "requests 버전 = 4.12.3\n"
     ]
    }
   ],
   "source": [
    "# requests, bs4 버전 확인하기\n",
    "print(f'requests 버전 = {requests.__version__}')\n",
    "print(f'requests 버전 = {bs4.__version__}')"
   ]
  },
  {
   "cell_type": "markdown",
   "id": "ccb91def-cde3-4aeb-b0e5-2e7233500333",
   "metadata": {},
   "source": [
    "### 1. 뉴스 제목 추출하기"
   ]
  },
  {
   "cell_type": "code",
   "execution_count": null,
   "id": "94c12fd6",
   "metadata": {},
   "outputs": [
    {
     "data": {
      "text/plain": [
       "'https://news.naver.com/section/105'"
      ]
     },
     "execution_count": 6,
     "metadata": {},
     "output_type": "execute_result"
    }
   ],
   "source": [
    "# IT/과학 뉴스 \n",
    "req_param = {\n",
    "    'sid': 105\n",
    "}\n",
    "\n",
    "sid=104\n",
    "# url=f'https://news.naver.com/section/{sid}' \n",
    "# url = 'https://news.naver.com/section/{sid}'.format(**req_param)\n",
    "# url\n"
   ]
  },
  {
   "cell_type": "code",
   "execution_count": 40,
   "id": "7f974944",
   "metadata": {},
   "outputs": [
    {
     "name": "stdout",
     "output_type": "stream",
     "text": [
      "200 True\n",
      "<class 'requests.models.Response'>\n",
      "<Response [200]>\n",
      "1 \"기업가치 끌어올려\"…LGU+, 자사주 소각·매입 '밸류업 플랜' 가동 https://n.news.naver.com/mnews/article/018/0006071035\n",
      "2 갤럭시Z 플립7·폴드7 국내 사전판매량 역대 최대…25일 출시 https://n.news.naver.com/mnews/article/001/0015521322\n",
      "3 \"개인정보 유출 골든타임 잡는다\"…샌즈랩, 실시간 알림 서비스 출시 https://n.news.naver.com/mnews/article/003/0013377703\n",
      "4 과기정통부-행안부, 대전서 AI 기반 안전관리 시스템 검증 https://n.news.naver.com/mnews/article/001/0015522362\n",
      "5 산업현장에 휴머노이드 투입…2천만원대 中로봇 등장 https://n.news.naver.com/mnews/article/009/0005528605\n",
      "6 \"지금 덜 붐비는 강남 카페 찾아줘\"…라이너-BC카드, AI 생활 서비스 '시동' https://n.news.naver.com/mnews/article/092/0002383048\n",
      "7 네이버클라우드, 하이퍼클로바X 추론모델도 상업용 무료 공개 https://n.news.naver.com/mnews/article/031/0000950642\n",
      "8 SOOP, LCK 정규 시즌 이벤트 시작 “원팀 뽑고 게이밍 기어 받자” https://n.news.naver.com/mnews/article/030/0003333953\n",
      "9 폴드7·플립7 지원금 최대 60만원…단통법 폐지 첫날 소폭 인상 https://n.news.naver.com/mnews/article/018/0006071104\n",
      "10 \"공시지원금 50만원뿐\"...단통법 폐지 첫날 '보조금 대란' 없었다 https://n.news.naver.com/mnews/article/008/0005225245\n",
      "11 中 AI 굴기 계속된다… 화웨이, ‘엔비디아 2배 성능’ AI 시스템 첫 공개 https://n.news.naver.com/mnews/article/366/0001094624\n",
      "12 中, 메모리부터 시스템반도체까지 전방위 韓 추격 https://n.news.naver.com/mnews/article/092/0002383057\n",
      "13 [르포] 단통법 폐지 첫 날…휴대폰 판매점에서 사라진 '계산기' https://n.news.naver.com/mnews/article/421/0008385416\n",
      "14 삼성전자 “HBM 16단부터 하이브리드 본딩 점진적 도입” https://n.news.naver.com/mnews/article/030/0003334070\n",
      "15 [뉴스1 PICK]단통법, 오늘부터 폐지…휴대폰값 싸질까 https://n.news.naver.com/mnews/article/421/0008385347\n",
      "16 50만번 접었다 펴도 멀쩡…2.5배 강해진 삼성디스플레이 폴더블 OLED https://n.news.naver.com/mnews/article/629/0000409631\n",
      "17 [일문일답] '트리거' 감독 \"총기 사고 유감, 콘텐츠 연관짓진 말아야\" https://n.news.naver.com/mnews/article/138/0002201137\n",
      "18 접는 폰 사상 최다 사전 판매, 갤럭시Z...'가로'가 '세로'를 처음 이겼다 https://n.news.naver.com/mnews/article/469/0000877377\n",
      "19 1.46조원 정부 'GPU 확보 사업' 최종 발표 임박…공공 비중이 승부 가른다 https://n.news.naver.com/mnews/article/092/0002383041\n",
      "20 아이폰 교통카드 장착, 韓서 갤럭시 아성 흔드나 https://n.news.naver.com/mnews/article/018/0006071069\n",
      "21 삼성전자, 'HBM4E 16단'서 하이브리드 본딩 도입 검토…샘플 평가 中 https://n.news.naver.com/mnews/article/092/0002383040\n",
      "22 [단독]애플페이 교통카드 출시에…삼페 교통카드도 수수료 '0%' https://n.news.naver.com/mnews/article/421/0008385290\n",
      "23 \"수정하지 말라 11번 말했는데\"…데이터베이스 지운 바이브 코딩 https://n.news.naver.com/mnews/article/092/0002383038\n",
      "24 \"日 귀화한 '뉴토끼' 잡아라\"…만화가들 대규모 서명운동, 무슨 일? https://n.news.naver.com/mnews/article/008/0005225195\n",
      "25 \"하루 25억 건\"…오픈AI, '챗GPT'로 구글 검색 턱밑까지 추격 https://n.news.naver.com/mnews/article/092/0002383035\n",
      "26 [써보고서] 애플 이용자도 이제는 지갑 안갖고 다녀도 됩니다 https://n.news.naver.com/mnews/article/092/0002383034\n",
      "27 알츠하이머병 고칠 약, 이미 있었다 https://n.news.naver.com/mnews/article/366/0001094592\n",
      "28 [1분건강] 자궁 출혈 지속된다면 ‘자궁내막암’ 의심 https://n.news.naver.com/mnews/article/092/0002383031\n",
      "29 [이슈플러스] 단통법 폐지 첫날, '대란'은 없었다 https://n.news.naver.com/mnews/article/030/0003334048\n",
      "30 11년 만에 단통법 폐지…“같은 단말기도 가격 다를 수 있어 따져봐야” https://n.news.naver.com/mnews/article/056/0011993804\n",
      "31 최태원 차녀 최민정, 군대서 비극 겪더니…“극단선택 동료들 보고 창업” https://n.news.naver.com/mnews/article/016/0002503297\n",
      "32 출시도 전에...갤럭시Z7 역대 최대 104만대 팔려 https://n.news.naver.com/mnews/article/030/0003334029\n",
      "33 '단통법 폐지' 첫 날…통신사는 '눈치싸움', 유통점은 '보조금 전쟁' 돌입 https://n.news.naver.com/mnews/article/119/0002982196\n",
      "34 \"갤Z폴드7 싸게 사는 법?\"...단통법 끝, '보조금 전쟁' 얼마까지 받나 https://n.news.naver.com/mnews/article/014/0005380661\n",
      "35 파라마운트, '오라클 클라우드'로 IT 대수술…1억 달러 계약 임박 https://n.news.naver.com/mnews/article/092/0002383028\n",
      "36 전기차 보조금 재지원 나서는 독일⋅영국…K-배터리 영향은? [소부장박대리] https://n.news.naver.com/mnews/article/138/0002201131\n",
      "37 퓨리오사AI AI 추론 가속기 '레니게이드', LG '엑사원'에 도입 https://n.news.naver.com/mnews/article/014/0005380658\n",
      "38 지아이이노베이션, 에임드바이오와 손잡고 4兆 규모 뇌종양 치료제 공동개발 https://n.news.naver.com/mnews/article/015/0005161136\n",
      "39 대기업도 개인정보 유출 '참사'..실시간 유출 알림으로 보안 의식 업 https://n.news.naver.com/mnews/article/018/0006071030\n",
      "40 [이슈플러스] 통신시장 경쟁 물꼬 텄다…첫날 분위기는 '폭풍전야' https://n.news.naver.com/mnews/article/030/0003334012\n",
      "41 단통법 오늘 폐지…이통사 보조금 전쟁 시작되나 https://n.news.naver.com/mnews/article/056/0011993791\n",
      "42 [현장] LG \"국가대표 AI, 우리 생태계로…글로벌 G3 도약할 것\" https://n.news.naver.com/mnews/article/092/0002383022\n",
      "43 [현장] LG, '엑사원 생태계' 시대 연다…\"자체 AI 모델로 기술 주권 실현\" https://n.news.naver.com/mnews/article/092/0002383021\n",
      "44 ‘극한폭우 한 달 빨라’ 7월 폭우 빈도 최대 3.7배 증가 https://n.news.naver.com/mnews/article/366/0001094566\n"
     ]
    }
   ],
   "source": [
    "req_param = {\n",
    "    'sid': 105\n",
    "}\n",
    "\n",
    "url = 'https://news.naver.com/section/{sid}'.format(**req_param)\n",
    "# print(url)\n",
    "\n",
    "# 요청 헤더 설정 : 브라우저 정보\n",
    "req_header = {\n",
    "    \"user-agent\": \"Mozilla/5.0 (Windows NT 10.0; Win64; x64) AppleWebKit/537.36 (KHTML, like Gecko) Chrome/138.0.0.0 Safari/537.36\"\n",
    "}\n",
    "\n",
    "# requests 의 get() 함수 호출하기 \n",
    "res=requests.get(url,headers=req_header)\n",
    "print(res.status_code,res.ok) #res.ok = 200일시 True\n",
    "print(type(res))\n",
    "print(res)\n",
    "# 응답(response)이 OK 이면\n",
    "# 응답 (response)에서 text 추출\n",
    "if(res.ok):\n",
    "    html = res.text\n",
    "\n",
    "    # BeautifulSoup 객체 생성 \n",
    "    soup = BeautifulSoup(html,\"html.parser\") \n",
    "    # print(soup)\n",
    "    # CSS 선택자\n",
    "    # print(soup.select(\"div.sa_text a[href*='mnews/article']\"))\n",
    "    a_tags = soup.select(\"div.sa_text a[href*='mnews/article'].sa_text_title\")\n",
    "    # print(len(a_tags))\n",
    "    # print(type(a_tags)) #[tag,tag,tag] >> set \n",
    "    # <a> 태그 리스트 순회하기  \n",
    "    for idx,a_tag in enumerate(a_tags,1):\n",
    "        if a_tag.text:\n",
    "            title = a_tag.text.strip()\n",
    "            link = a_tag['href']\n",
    "            print(f'{idx} {title} {link}') #tag\n",
    "else:\n",
    "    # 응답(response)이 Error 이면 status code 출력 \n",
    "\n",
    "    print(f'Error Code = {res.status_code}')\n",
    "\n",
    "  \n",
    "\n",
    "   \n",
    "\n"
   ]
  },
  {
   "cell_type": "markdown",
   "id": "45640860-a449-4285-90d7-5f300292b461",
   "metadata": {},
   "source": [
    "### 1.1 뉴스제목 추출하는 함수 선언하기"
   ]
  },
  {
   "cell_type": "code",
   "execution_count": 52,
   "id": "9f2e4ef8",
   "metadata": {},
   "outputs": [],
   "source": [
    "import requests\n",
    "from bs4 import BeautifulSoup\n",
    "\n",
    "# section_dict = {100:'정치',101:'경제',102:'사회',103:'생활/문화',104:'세계',105:'IT/과학'}\n",
    "section_dict = {'정치':100,'경제':101,'사회':102,'생활/문화':103,'세계':104,'IT/과학':105}\n",
    "\n",
    "def print_news(section):  #print_new(103,'생활/문화') \n",
    "    sid=section_dict[section]\n",
    "    url=f'https://news.naver.com/section/{sid}'\n",
    "    print(f'{url} {section} 뉴스')\n",
    "\n",
    "    # 요청 헤더 설정 : 브라우저 정보\n",
    "    req_header = {\n",
    "        \"user-agent\": \"Mozilla/5.0 (Windows NT 10.0; Win64; x64) AppleWebKit/537.36 (KHTML, like Gecko) Chrome/138.0.0.0 Safari/537.36\"\n",
    "    }\n",
    "\n",
    "    # requests 의 get() 함수 호출하기 \n",
    "    res=requests.get(url,headers=req_header)\n",
    "    print(res.status_code,res.ok) #res.ok = 200일시 True\n",
    "\n",
    "    if(res.ok):\n",
    "        html = res.text\n",
    "\n",
    "        # BeautifulSoup 객체 생성 \n",
    "        soup = BeautifulSoup(html,\"html.parser\") \n",
    "        a_tags = soup.select(\"div.sa_text a[href*='mnews/article'].sa_text_title\")\n",
    "        print(len(a_tags))\n",
    "\n",
    "         # <a> 태그 리스트 순회하기  \n",
    "        for idx,a_tag in enumerate(a_tags,1):\n",
    "            if a_tag.text:\n",
    "                title = a_tag.text.strip()\n",
    "                link = a_tag['href']\n",
    "                print(f'{idx} {title} {link}') #tag   \n",
    "    else: \n",
    "        print(f'Error Code = {res.status_code}') \n"
   ]
  },
  {
   "cell_type": "code",
   "execution_count": 54,
   "id": "858952c6",
   "metadata": {},
   "outputs": [
    {
     "name": "stdout",
     "output_type": "stream",
     "text": [
      "https://news.naver.com/section/103 생활/문화 뉴스\n",
      "200 True\n",
      "43\n",
      "1 한교총 “교회 전체에 범죄자 프레임, 모욕감”···압수수색한 특검에 사과 요구 https://n.news.naver.com/mnews/article/032/0003384489\n",
      "2 사랑하지만 잠은 따로…美부부 3쌍 중 1쌍, ‘수면 이혼’ 중 https://n.news.naver.com/mnews/article/020/0003649546\n",
      "3 ‘진덕여왕릉·마애불상군’ 국가유산 집중호우 피해 18건으로 늘어 https://n.news.naver.com/mnews/article/056/0011993801\n",
      "4 장마 끝나자 '찜통 시작'…무더위에 '소나기' 겹친다[날씨] https://n.news.naver.com/mnews/article/437/0000449500\n",
      "5 모바일로 관광택시 타면 50% 할인…관광공사, 10개 지자체와 할인 이벤트 https://n.news.naver.com/mnews/article/081/0003559837\n",
      "6 '대서'에 폭염·열대야 기승…내륙 곳곳 소나기[오늘 날씨] https://n.news.naver.com/mnews/article/015/0005160918\n",
      "7 BIFF 올해 아시아영화인상은?…이란 자파르 파나히 감독 https://n.news.naver.com/mnews/article/003/0013377713\n",
      "8 [단독] 통일교, 3남과의 ‘7000억원대’ 소송 패소…“내부분열 인정” https://n.news.naver.com/mnews/article/005/0001791283\n",
      "9 APEC 에너지장관회의 공식 의전…현대차 '넥쏘' 탄다 https://n.news.naver.com/mnews/article/277/0005626345\n",
      "10 극한 호우에 가야고분도 쓸렸다…피해 18건으로 늘어 https://n.news.naver.com/mnews/article/016/0002503340\n",
      "11 [AI에게 물었다] 직장인 생명수 ‘아메리카노’, 아침 공복에 가능? https://n.news.naver.com/mnews/article/119/0002982267\n",
      "12 전기차 판매 처음 꺾인 美...기아 판매량 72% 급감 https://n.news.naver.com/mnews/article/009/0005529108\n",
      "13 넥쏘 등 현대차그룹 친환경차 국제회의 총출동 https://n.news.naver.com/mnews/article/020/0003649597\n",
      "14 '거래정지 미리 알고 주식처분' 코스닥상장사 대표 1심 무죄 https://n.news.naver.com/mnews/article/374/0000453121\n",
      "15 박영규 “암 전 단계, 2년만 늦었어도”… ‘이 검사’ 덕분에 빨리 발견 https://n.news.naver.com/mnews/article/346/0000094887\n",
      "16 당근서 부동산 직거래했다가 계약금 3.5억 날렸다 https://n.news.naver.com/mnews/article/374/0000453118\n",
      "17 “다이어트 중인데” 조여정, 촬영 중 ‘이 음식’ 못 참았다… 뭘까? https://n.news.naver.com/mnews/article/346/0000094885\n",
      "18 “무리한 교회 압수수색 사과하라”…한교총, ‘채상병 특검’ 규탄 성명 https://n.news.naver.com/mnews/article/081/0003559849\n",
      "19 20년간 혼수상태 끝에 눈 감은 사우디아라비아 ‘잠자는 왕자’ https://n.news.naver.com/mnews/article/296/0000091481\n",
      "20 \"매일 ‘치팅데이’ 즐겨도 살 안 찐다?\"…기막힌 ‘비만 예방법’ 나왔다는데 https://n.news.naver.com/mnews/article/011/0004512128\n",
      "21 현대차그룹 대미 전기차 수출 88％ 급감…“하반기가 더 걱정” https://n.news.naver.com/mnews/article/032/0003384511\n",
      "22 열대야에 무너지는 수면 리듬…카페인·알코올 줄여야 https://n.news.naver.com/mnews/article/584/0000033504\n",
      "23 \"의전 차량 첫 사례\"…'수소차' 넥쏘, APEC 무대 누빈다 https://n.news.naver.com/mnews/article/015/0005161159\n",
      "24 현대차 넥쏘, '글로벌 에너지 회의'서 공식차로 달린다 https://n.news.naver.com/mnews/article/092/0002383043\n",
      "25 채 상병 특검, 여의도순복음 압수수색에 개신교계 잇단 반발 https://n.news.naver.com/mnews/article/469/0000877375\n",
      "26 현대차그룹, APEC 에너지장관회의에 친환경차 63대 지원 https://n.news.naver.com/mnews/article/629/0000409629\n",
      "27 [날씨] 충남 천안 '호우주의보'...내륙 최대 80mm↑ 소나기 https://n.news.naver.com/mnews/article/052/0002222844\n",
      "28 '中저장성으로? 서해 북상?' 7호 태풍 프란시스코 발달 전 단계 열대저압부 감시 임박 https://n.news.naver.com/mnews/article/088/0000960351\n",
      "29 의사들이 꼽은 ‘뇌 기능’ 떨어뜨리는 최악의 습관은? https://n.news.naver.com/mnews/article/346/0000094881\n",
      "30 “난 휴가 때 시댁 농사일 돕는데...” 인천공항 하루 평균 22만명 출국, 벌써부터 북적 https://n.news.naver.com/mnews/article/022/0004053777\n",
      "31 “잠 좀 푹 자고 싶다”…열대야에 숙면하는 사람들의 비밀 습관 https://n.news.naver.com/mnews/article/022/0004053776\n",
      "32 “침수된 음식 절대 먹지 마세요”‥‘장마 끝, 폭염 시작’ 식중독 확산 경고 https://n.news.naver.com/mnews/article/022/0004053774\n",
      "33 6411의 목소리… ‘사람 할 일 못 된다’는 그 일 10년 해보니 https://n.news.naver.com/mnews/article/036/0000052013\n",
      "34 지하철 타고 어르신 인기 만점 피서지를 가봤다 https://n.news.naver.com/mnews/article/047/0002481902\n",
      "35 밀면 먹던 부산 남자의 평양냉면 예찬 https://n.news.naver.com/mnews/article/047/0002481900\n",
      "36 전공의·의대생 복귀 특혜 논란…'입법 전선'으로 갈등 이동 https://n.news.naver.com/mnews/article/584/0000033501\n",
      "37 中 비야디, 내년 유럽서 3억대 슈퍼카 선보인다 https://n.news.naver.com/mnews/article/029/0002970034\n",
      "38 한국인 남편ㆍ일본인 아내 급증 “너무 자상해요”…우리 남편은? https://n.news.naver.com/mnews/article/296/0000091479\n",
      "39 '내 집' 후회하지 않으려면... 계약서에 이런 문구부터 피하세요 https://n.news.naver.com/mnews/article/047/0002481891\n",
      "40 달콤한 일상에 스며든 ‘당뇨병’…누구나 예외는 없다 https://n.news.naver.com/mnews/article/145/0000022164\n",
      "41 키 150cm 안 되면, 더위 더 탄다 https://n.news.naver.com/mnews/article/346/0000094878\n",
      "42 10월 유신에 격분한 김대중 \"단장의 심정으로 쓴 일기\" https://n.news.naver.com/mnews/article/001/0015522357\n",
      "43 희귀 뇌질환 빌리 조엘 “균형감각 엉망…배 위에 있는 듯” https://n.news.naver.com/mnews/article/020/0003649571\n"
     ]
    }
   ],
   "source": [
    "print_news('생활/문화')"
   ]
  },
  {
   "cell_type": "markdown",
   "id": "323196dc",
   "metadata": {},
   "source": [
    "### 2. Image 다운로드\n",
    "* referer 요청 헤더를 반드시 설정해야 한다."
   ]
  },
  {
   "cell_type": "code",
   "execution_count": 67,
   "id": "c72d6cb1",
   "metadata": {},
   "outputs": [
    {
     "name": "stdout",
     "output_type": "stream",
     "text": [
      "True 200\n",
      "20250611094525_cad945d8cca07acb253f310ee9b71406_IMAG01_1.jpg\n",
      "writing to 20250611094525_cad945d8cca07acb253f310ee9b71406_IMAG01_1.jpg(114,565 bytes)\n",
      "True 200\n",
      "20250611094525_cad945d8cca07acb253f310ee9b71406_IMAG01_2.jpg\n",
      "writing to 20250611094525_cad945d8cca07acb253f310ee9b71406_IMAG01_2.jpg(133,850 bytes)\n",
      "True 200\n",
      "20250611094525_cad945d8cca07acb253f310ee9b71406_IMAG01_3.jpg\n",
      "writing to 20250611094525_cad945d8cca07acb253f310ee9b71406_IMAG01_3.jpg(147,229 bytes)\n",
      "True 200\n",
      "20250611094525_cad945d8cca07acb253f310ee9b71406_IMAG01_4.jpg\n",
      "writing to 20250611094525_cad945d8cca07acb253f310ee9b71406_IMAG01_4.jpg(149,547 bytes)\n"
     ]
    }
   ],
   "source": [
    "import requests\n",
    "import os\n",
    "\n",
    "req_header = {\n",
    "    'referer':'https://comic.naver.com/webtoon/detail?titleId=812354&no=154&week=thu',\n",
    "    \"user-agent\": \"Mozilla/5.0 (Windows NT 10.0; Win64; x64) AppleWebKit/537.36 (KHTML, like Gecko) Chrome/138.0.0.0 Safari/537.36\"\n",
    "}\n",
    "\n",
    "img_urls = [\n",
    "    \"https://image-comic.pstatic.net/webtoon/812354/154/20250611094525_cad945d8cca07acb253f310ee9b71406_IMAG01_1.jpg\",\n",
    "    \"https://image-comic.pstatic.net/webtoon/812354/154/20250611094525_cad945d8cca07acb253f310ee9b71406_IMAG01_2.jpg\",\n",
    "    \"https://image-comic.pstatic.net/webtoon/812354/154/20250611094525_cad945d8cca07acb253f310ee9b71406_IMAG01_3.jpg\",\n",
    "    \"https://image-comic.pstatic.net/webtoon/812354/154/20250611094525_cad945d8cca07acb253f310ee9b71406_IMAG01_4.jpg\",\n",
    "]\n",
    "\n",
    "for img_url in img_urls:\n",
    "    # requests 의 get(url, headers) 함수 호출하기 \n",
    "    res=requests.get(img_url,headers=req_header)\n",
    "    print(res.ok,res.status_code)\n",
    "    if res.ok:\n",
    "        # binary 응답 데이터 가져오기\n",
    "        img_data = res.content\n",
    "        # url에서 파일명만 추출하기\n",
    "        file_name=os.path.basename(img_url)\n",
    "        print(file_name)\n",
    "        # binday data를 file에 write하기\n",
    "        with open(file_name,'wb') as file:\n",
    "            print(f'writing to {file_name}({len(img_data):,} bytes)')\n",
    "            file.write(img_data)\n"
   ]
  },
  {
   "cell_type": "markdown",
   "id": "e8b00a04",
   "metadata": {},
   "source": [
    "* 현재 요청된 페이지의 image 모두 다운로드 해보기"
   ]
  },
  {
   "cell_type": "code",
   "execution_count": 75,
   "id": "b30f7bf5",
   "metadata": {},
   "outputs": [
    {
     "name": "stdout",
     "output_type": "stream",
     "text": [
      "200\n",
      "14\n"
     ]
    }
   ],
   "source": [
    "import requests\n",
    "from bs4 import BeautifulSoup\n",
    "import os \n",
    "\n",
    "webtoon_url='https://comic.naver.com/webtoon/detail?titleId=812354&no=154&week=thu'\n",
    "req_header ={\n",
    "    'referer':webtoon_url,\n",
    "    \"user-agent\": \"Mozilla/5.0 (Windows NT 10.0; Win64; x64) AppleWebKit/537.36 (KHTML, like Gecko) Chrome/138.0.0.0 Safari/537.36\"\n",
    "}\n",
    "res = requests.get(webtoon_url)\n",
    "print(res.status_code)\n",
    "if res.ok:\n",
    "    soup = BeautifulSoup(res.text,'html.parser')\n",
    "    print(len(soup.select(\"img[src*='IMAG01']\")))\n"
   ]
  },
  {
   "cell_type": "markdown",
   "id": "2ac9f5f9",
   "metadata": {},
   "source": [
    "### 3. 파일 업로드 하기\n",
    "* http://httpbin.org/post 업로드 요청을 할 수 있는 url"
   ]
  },
  {
   "cell_type": "code",
   "execution_count": null,
   "id": "04da4790",
   "metadata": {},
   "outputs": [
    {
     "name": "stdout",
     "output_type": "stream",
     "text": [
      "200\n"
     ]
    }
   ],
   "source": [
    "import requests\n",
    "\n",
    "upload_files = {\n",
    "    \n",
    "}\n",
    "#print(upload_files)\n",
    "\n",
    "url = 'http://httpbin.org/post'\n",
    "# file 업로드 하려면 requests의 post 함수에 files 속성을 사용합니다.\n",
    "\n"
   ]
  },
  {
   "cell_type": "markdown",
   "id": "7ad65f12",
   "metadata": {},
   "source": [
    "### 4. 캡챠(이미지) API 호출하기\n",
    "* urllib 사용\n",
    "* 1. 캡차 키 발급 요청\n",
    "  2. 캡차 이미지 요청\n",
    "  3. 사용자 입력값 검증 요청"
   ]
  },
  {
   "cell_type": "code",
   "execution_count": null,
   "id": "bc4ae360-e772-4873-8642-d3494edd34e1",
   "metadata": {},
   "outputs": [],
   "source": [
    "# 캡차 키 발급 요청\n"
   ]
  },
  {
   "cell_type": "code",
   "execution_count": null,
   "id": "7b95b6a0-c218-4792-82a6-da4d80872071",
   "metadata": {},
   "outputs": [],
   "source": [
    "# 캡차 이미지 요청\n"
   ]
  },
  {
   "cell_type": "code",
   "execution_count": null,
   "id": "a79076af-2cd0-4de2-8301-316b9130c55e",
   "metadata": {},
   "outputs": [],
   "source": [
    "#  사용자 입력값 검증 요청\n",
    "\n"
   ]
  },
  {
   "cell_type": "markdown",
   "id": "b7d984a6",
   "metadata": {},
   "source": [
    "* requests를 사용하는 코드로 변경하기\n",
    "* [requests docs](https://requests.readthedocs.io/en/latest/user/quickstart/)"
   ]
  },
  {
   "cell_type": "code",
   "execution_count": null,
   "id": "727b427b",
   "metadata": {
    "scrolled": true
   },
   "outputs": [
    {
     "name": "stdout",
     "output_type": "stream",
     "text": [
      "Error Code: 403\n"
     ]
    }
   ],
   "source": [
    "# 사용자 입력값 검증 요청\n",
    "\n"
   ]
  },
  {
   "cell_type": "markdown",
   "id": "d5e1179a",
   "metadata": {},
   "source": [
    "### 5. 블로그 검색하기"
   ]
  },
  {
   "cell_type": "code",
   "execution_count": null,
   "id": "877d0c7f",
   "metadata": {},
   "outputs": [],
   "source": [
    "import requests\n",
    "import pprint\n",
    "\n",
    "headers = {\n",
    "    'X-Naver-Client-Id': '',\n",
    "    'X-Naver-Client-Secret': '',\n",
    "}\n",
    "\n",
    "payload = {\n",
    "    'query': '파이썬',\n",
    "    'display': 100,\n",
    "    'sort': 'sim'\n",
    "}\n",
    "\n",
    "url = 'https://openapi.naver.com/v1/search/blog.json'\n",
    "\n",
    "\n",
    "# requests get(url, params, headers) 요청 \n",
    "\n",
    "# json() 함수로 응답 결과 가져오오기\n",
    "# 'title' , 'bloggername' , 'description' , 'bloggerlink' , 'link'\n",
    "\n",
    "# 'data/nhnblog.txt' 파일 생성하기\n"
   ]
  }
 ],
 "metadata": {
  "kernelspec": {
   "display_name": "base",
   "language": "python",
   "name": "python3"
  },
  "language_info": {
   "codemirror_mode": {
    "name": "ipython",
    "version": 3
   },
   "file_extension": ".py",
   "mimetype": "text/x-python",
   "name": "python",
   "nbconvert_exporter": "python",
   "pygments_lexer": "ipython3",
   "version": "3.12.7"
  }
 },
 "nbformat": 4,
 "nbformat_minor": 5
}
